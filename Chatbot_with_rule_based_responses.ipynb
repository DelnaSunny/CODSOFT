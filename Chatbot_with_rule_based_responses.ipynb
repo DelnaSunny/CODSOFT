{
  "nbformat": 4,
  "nbformat_minor": 0,
  "metadata": {
    "colab": {
      "provenance": []
    },
    "kernelspec": {
      "name": "python3",
      "display_name": "Python 3"
    },
    "language_info": {
      "name": "python"
    }
  },
  "cells": [
    {
      "cell_type": "code",
      "execution_count": 4,
      "metadata": {
        "colab": {
          "base_uri": "https://localhost:8080/"
        },
        "id": "bSdYClMr4N4o",
        "outputId": "abe2cc5b-ca6e-4c9d-9260-efe65343b980"
      },
      "outputs": [
        {
          "output_type": "stream",
          "name": "stdout",
          "text": [
            "Hi! I'm Joana. How can I help you today?\n",
            "You: hi\n",
            "Joana: Hello there! How can I assist you?\n",
            "You: how are you\n",
            "Joana: Thanks for asking! I'm running smoothly and ready to help.\n",
            "You: weather\n",
            "Joana: I'm not sure how to respond to that. Try asking something else.\n",
            "You: bye\n",
            "Joana: Goodbye! Have a nice day!\n"
          ]
        }
      ],
      "source": [
        "def chatbot():\n",
        "  print(\"Hi! I'm Joana. How can I help you today?\")\n",
        "\n",
        "  while True:\n",
        "    user_input = input(\"You: \").lower().strip()\n",
        "\n",
        "    if user_input in [\"hi\", \"hello\", \"hey\"]:\n",
        "      print(\"Joana: Hello there! How can I assist you?\")\n",
        "\n",
        "    elif \"your name\" in user_input:\n",
        "      print(\"Joana: I'm Joana, your friendly chatbot.\")\n",
        "\n",
        "    elif \"how are you\" in user_input:\n",
        "      print(\"Joana: Thanks for asking! I'm running smoothly and ready to help.\")\n",
        "\n",
        "    elif \"help\" in user_input:\n",
        "      print(\"Joana: Sure! What do you need assistance with?\")\n",
        "\n",
        "    elif \"Password reset\" in user_input:\n",
        "      print(\"Joana: You can reset your password by clicking 'Forgot Password' on the login screen.\")\n",
        "\n",
        "    elif user_input in [\"bye\",\"exit\",\"quit\"]:\n",
        "      print(\"Joana: Goodbye! Have a nice day!\")\n",
        "      break\n",
        "\n",
        "    else:\n",
        "      print(\"Joana: I'm not sure how to respond to that. Try asking something else.\")\n",
        "\n",
        "chatbot()"
      ]
    },
    {
      "cell_type": "code",
      "source": [],
      "metadata": {
        "id": "bH7JYsW0AfW0"
      },
      "execution_count": null,
      "outputs": []
    },
    {
      "cell_type": "code",
      "source": [],
      "metadata": {
        "id": "lfiezJcX-Uok"
      },
      "execution_count": null,
      "outputs": []
    }
  ]
}